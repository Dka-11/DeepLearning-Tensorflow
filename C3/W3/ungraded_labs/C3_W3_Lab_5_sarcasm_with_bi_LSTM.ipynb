{
 "cells": [
  {
   "cell_type": "markdown",
   "metadata": {},
   "source": [
    "<a href=\"https://colab.research.google.com/github/https-deeplearning-ai/tensorflow-1-public/blob/master/C3/W3/ungraded_labs/C3_W3_Lab_5_sarcasm_with_bi_LSTM.ipynb\" target=\"_parent\"><img src=\"https://colab.research.google.com/assets/colab-badge.svg\" alt=\"Open In Colab\"/></a>"
   ]
  },
  {
   "cell_type": "markdown",
   "metadata": {
    "id": "Q2MY4-M1zuhV"
   },
   "source": [
    "# Ungraded Lab: Training a Sarcasm Detection Model using Bidirectional LSTMs\n",
    "\n",
    "In this lab, you will revisit the [News Headlines Dataset for Sarcasm Detection](https://www.kaggle.com/rmisra/news-headlines-dataset-for-sarcasm-detection/home) dataset and use it to train a Bi-LSTM Model.\n"
   ]
  },
  {
   "cell_type": "markdown",
   "metadata": {
    "id": "S-AgItE6z80t"
   },
   "source": [
    "## Download the Dataset\n",
    "\n",
    "First, you will download the JSON file and extract the contents into lists."
   ]
  },
  {
   "cell_type": "code",
   "execution_count": 1,
   "metadata": {
    "id": "k_Wlz9i10Dmn"
   },
   "outputs": [
    {
     "name": "stderr",
     "output_type": "stream",
     "text": [
      "--2023-05-01 18:33:54--  https://storage.googleapis.com/tensorflow-1-public/course3/sarcasm.json\n",
      "Resolving storage.googleapis.com (storage.googleapis.com)... 2404:f340:4010:1811::2010, 2404:f340:4010:180c::2010, 2404:f340:4010:180d::2010, ...\n",
      "Connecting to storage.googleapis.com (storage.googleapis.com)|2404:f340:4010:1811::2010|:443... connected.\n",
      "HTTP request sent, awaiting response... 200 OK\n",
      "Length: 5643545 (5,4M) [application/json]\n",
      "Saving to: 'sarcasm.json'\n",
      "\n",
      "     0K .......... .......... .......... .......... ..........  0%  695K 8s\n",
      "    50K .......... .......... .......... .......... ..........  1% 1,39M 6s\n",
      "   100K .......... .......... .......... .......... ..........  2% 2,08M 5s\n",
      "   150K .......... .......... .......... .......... ..........  3% 4,24M 4s\n",
      "   200K .......... .......... .......... .......... ..........  4% 3,87M 3s\n",
      "   250K .......... .......... .......... .......... ..........  5% 2,59M 3s\n",
      "   300K .......... .......... .......... .......... ..........  6% 8,77M 3s\n",
      "   350K .......... .......... .......... .......... ..........  7% 6,58M 2s\n",
      "   400K .......... .......... .......... .......... ..........  8% 10,3M 2s\n",
      "   450K .......... .......... .......... .......... ..........  9% 5,67M 2s\n",
      "   500K .......... .......... .......... .......... ..........  9% 1,24M 2s\n",
      "   550K .......... .......... .......... .......... .......... 10% 13,8M 2s\n",
      "   600K .......... .......... .......... .......... .......... 11% 8,13M 2s\n",
      "   650K .......... .......... .......... .......... .......... 12% 12,7M 2s\n",
      "   700K .......... .......... .......... .......... .......... 13% 12,9M 2s\n",
      "   750K .......... .......... .......... .......... .......... 14% 9,51M 2s\n",
      "   800K .......... .......... .......... .......... .......... 15% 11,8M 1s\n",
      "   850K .......... .......... .......... .......... .......... 16% 4,11M 1s\n",
      "   900K .......... .......... .......... .......... .......... 17% 12,2M 1s\n",
      "   950K .......... .......... .......... .......... .......... 18% 12,0M 1s\n",
      "  1000K .......... .......... .......... .......... .......... 19% 2,21M 1s\n",
      "  1050K .......... .......... .......... .......... .......... 19% 24,0M 1s\n",
      "  1100K .......... .......... .......... .......... .......... 20% 10,8M 1s\n",
      "  1150K .......... .......... .......... .......... .......... 21% 16,9M 1s\n",
      "  1200K .......... .......... .......... .......... .......... 22% 11,7M 1s\n",
      "  1250K .......... .......... .......... .......... .......... 23% 7,52M 1s\n",
      "  1300K .......... .......... .......... .......... .......... 24% 8,17M 1s\n",
      "  1350K .......... .......... .......... .......... .......... 25% 14,4M 1s\n",
      "  1400K .......... .......... .......... .......... .......... 26% 14,1M 1s\n",
      "  1450K .......... .......... .......... .......... .......... 27% 16,5M 1s\n",
      "  1500K .......... .......... .......... .......... .......... 28%  482K 1s\n",
      "  1550K .......... .......... .......... .......... .......... 29% 13,6M 1s\n",
      "  1600K .......... .......... .......... .......... .......... 29% 6,49M 1s\n",
      "  1650K .......... .......... .......... .......... .......... 30% 13,4M 1s\n",
      "  1700K .......... .......... .......... .......... .......... 31% 12,7M 1s\n",
      "  1750K .......... .......... .......... .......... .......... 32% 8,58M 1s\n",
      "  1800K .......... .......... .......... .......... .......... 33% 12,5M 1s\n",
      "  1850K .......... .......... .......... .......... .......... 34% 22,9M 1s\n",
      "  1900K .......... .......... .......... .......... .......... 35% 10,7M 1s\n",
      "  1950K .......... .......... .......... .......... .......... 36% 13,5M 1s\n",
      "  2000K .......... .......... .......... .......... .......... 37%  403K 1s\n",
      "  2050K .......... .......... .......... .......... .......... 38% 6,32M 1s\n",
      "  2100K .......... .......... .......... .......... .......... 39% 2,33M 1s\n",
      "  2150K .......... .......... .......... .......... .......... 39%  128M 1s\n",
      "  2200K .......... .......... .......... .......... .......... 40%  217M 1s\n",
      "  2250K .......... .......... .......... .......... .......... 41%  258M 1s\n",
      "  2300K .......... .......... .......... .......... .......... 42%  126M 1s\n",
      "  2350K .......... .......... .......... .......... .......... 43%  145M 1s\n",
      "  2400K .......... .......... .......... .......... .......... 44%  101M 1s\n",
      "  2450K .......... .......... .......... .......... .......... 45%  200M 1s\n",
      "  2500K .......... .......... .......... .......... .......... 46%  110M 1s\n",
      "  2550K .......... .......... .......... .......... .......... 47%  279M 1s\n",
      "  2600K .......... .......... .......... .......... .......... 48%  199M 1s\n",
      "  2650K .......... .......... .......... .......... .......... 48%  353M 1s\n",
      "  2700K .......... .......... .......... .......... .......... 49%  183M 1s\n",
      "  2750K .......... .......... .......... .......... .......... 50% 4,39M 1s\n",
      "  2800K .......... .......... .......... .......... .......... 51% 1,63M 1s\n",
      "  2850K .......... .......... .......... .......... .......... 52% 3,23M 1s\n",
      "  2900K .......... .......... .......... .......... .......... 53% 3,46M 1s\n",
      "  2950K .......... .......... .......... .......... .......... 54% 4,92M 1s\n",
      "  3000K .......... .......... .......... .......... .......... 55% 3,89M 1s\n",
      "  3050K .......... .......... .......... .......... .......... 56% 5,34M 1s\n",
      "  3100K .......... .......... .......... .......... .......... 57% 2,42M 1s\n",
      "  3150K .......... .......... .......... .......... .......... 58% 5,60M 1s\n",
      "  3200K .......... .......... .......... .......... .......... 58% 2,52M 1s\n",
      "  3250K .......... .......... .......... .......... .......... 59% 23,4M 1s\n",
      "  3300K .......... .......... .......... .......... .......... 60% 4,12M 1s\n",
      "  3350K .......... .......... .......... .......... .......... 61% 5,85M 1s\n",
      "  3400K .......... .......... .......... .......... .......... 62% 4,18M 0s\n",
      "  3450K .......... .......... .......... .......... .......... 63% 5,36M 0s\n",
      "  3500K .......... .......... .......... .......... .......... 64% 4,71M 0s\n",
      "  3550K .......... .......... .......... .......... .......... 65% 6,36M 0s\n",
      "  3600K .......... .......... .......... .......... .......... 66% 2,92M 0s\n",
      "  3650K .......... .......... .......... .......... .......... 67% 12,1M 0s\n",
      "  3700K .......... .......... .......... .......... .......... 68% 4,15M 0s\n",
      "  3750K .......... .......... .......... .......... .......... 68% 5,82M 0s\n",
      "  3800K .......... .......... .......... .......... .......... 69% 7,86M 0s\n",
      "  3850K .......... .......... .......... .......... .......... 70% 5,01M 0s\n",
      "  3900K .......... .......... .......... .......... .......... 71% 12,5M 0s\n",
      "  3950K .......... .......... .......... .......... .......... 72% 6,39M 0s\n",
      "  4000K .......... .......... .......... .......... .......... 73% 3,28M 0s\n",
      "  4050K .......... .......... .......... .......... .......... 74% 7,30M 0s\n",
      "  4100K .......... .......... .......... .......... .......... 75% 5,36M 0s\n",
      "  4150K .......... .......... .......... .......... .......... 76% 3,48M 0s\n",
      "  4200K .......... .......... .......... .......... .......... 77% 9,46M 0s\n",
      "  4250K .......... .......... .......... .......... .......... 78% 5,13M 0s\n",
      "  4300K .......... .......... .......... .......... .......... 78% 4,90M 0s\n",
      "  4350K .......... .......... .......... .......... .......... 79% 5,13M 0s\n",
      "  4400K .......... .......... .......... .......... .......... 80% 3,85M 0s\n",
      "  4450K .......... .......... .......... .......... .......... 81% 4,02M 0s\n",
      "  4500K .......... .......... .......... .......... .......... 82% 4,10M 0s\n",
      "  4550K .......... .......... .......... .......... .......... 83% 6,42M 0s\n",
      "  4600K .......... .......... .......... .......... .......... 84% 4,86M 0s\n",
      "  4650K .......... .......... .......... .......... .......... 85% 4,99M 0s\n",
      "  4700K .......... .......... .......... .......... .......... 86% 4,84M 0s\n",
      "  4750K .......... .......... .......... .......... .......... 87% 5,49M 0s\n",
      "  4800K .......... .......... .......... .......... .......... 88% 4,07M 0s\n",
      "  4850K .......... .......... .......... .......... .......... 88% 4,76M 0s\n",
      "  4900K .......... .......... .......... .......... .......... 89% 5,41M 0s\n",
      "  4950K .......... .......... .......... .......... .......... 90% 2,14M 0s\n",
      "  5000K .......... .......... .......... .......... .......... 91% 12,2M 0s\n",
      "  5050K .......... .......... .......... .......... .......... 92% 6,84M 0s\n",
      "  5100K .......... .......... .......... .......... .......... 93% 7,46M 0s\n",
      "  5150K .......... .......... .......... .......... .......... 94% 2,73M 0s\n",
      "  5200K .......... .......... .......... .......... .......... 95%  263K 0s\n",
      "  5250K .......... .......... .......... .......... .......... 96% 2,79M 0s\n",
      "  5300K .......... .......... .......... .......... .......... 97% 6,51M 0s\n",
      "  5350K .......... .......... .......... .......... .......... 97%  271K 0s\n",
      "  5400K .......... .......... .......... .......... .......... 98%  116M 0s\n",
      "  5450K .......... .......... .......... .......... .......... 99%  115M 0s\n",
      "  5500K .......... .                                          100%  455M=1,6s\n",
      "\n",
      "2023-05-01 18:33:55 (3,42 MB/s) - 'sarcasm.json' saved [5643545/5643545]\n",
      "\n"
     ]
    }
   ],
   "source": [
    "# Download the dataset\n",
    "!wget https://storage.googleapis.com/tensorflow-1-public/course3/sarcasm.json"
   ]
  },
  {
   "cell_type": "code",
   "execution_count": 2,
   "metadata": {
    "id": "Pr4R0I240GOh"
   },
   "outputs": [],
   "source": [
    "import json\n",
    "\n",
    "# Load the JSON file\n",
    "with open(\"./sarcasm.json\", 'r') as f:\n",
    "    datastore = json.load(f)\n",
    "\n",
    "# Initialize the lists\n",
    "sentences = []\n",
    "labels = []\n",
    "\n",
    "# Collect sentences and labels into the lists\n",
    "for item in datastore:\n",
    "    sentences.append(item['headline'])\n",
    "    labels.append(item['is_sarcastic'])"
   ]
  },
  {
   "cell_type": "markdown",
   "metadata": {
    "id": "zN9-ojV55UCR"
   },
   "source": [
    "## Split the Dataset\n",
    "\n",
    "You will then split the lists into train and test sets."
   ]
  },
  {
   "cell_type": "code",
   "execution_count": 3,
   "metadata": {
    "id": "50H0ZrJf035i"
   },
   "outputs": [],
   "source": [
    "training_size = 20000\n",
    "\n",
    "# Split the sentences\n",
    "training_sentences = sentences[0:training_size]\n",
    "testing_sentences = sentences[training_size:]\n",
    "\n",
    "# Split the labels\n",
    "training_labels = labels[0:training_size]\n",
    "testing_labels = labels[training_size:]"
   ]
  },
  {
   "cell_type": "markdown",
   "metadata": {
    "id": "MYVNY4tE5YbN"
   },
   "source": [
    "## Data preprocessing\n",
    "\n",
    "Next, you will generate the vocabulary and padded sequences."
   ]
  },
  {
   "cell_type": "code",
   "execution_count": 4,
   "metadata": {
    "id": "hodsUZib1Ce7"
   },
   "outputs": [],
   "source": [
    "import numpy as np\n",
    "from tensorflow.keras.preprocessing.text import Tokenizer\n",
    "from tensorflow.keras.preprocessing.sequence import pad_sequences\n",
    "\n",
    "vocab_size = 10000\n",
    "max_length = 120\n",
    "trunc_type='post'\n",
    "padding_type='post'\n",
    "oov_tok = \"<OOV>\"\n",
    "\n",
    "# Initialize the Tokenizer class\n",
    "tokenizer = Tokenizer(num_words=vocab_size, oov_token=oov_tok)\n",
    "\n",
    "# Generate the word index dictionary\n",
    "tokenizer.fit_on_texts(training_sentences)\n",
    "word_index = tokenizer.word_index\n",
    "\n",
    "# Generate and pad the training sequences\n",
    "training_sequences = tokenizer.texts_to_sequences(training_sentences)\n",
    "training_padded = pad_sequences(training_sequences, maxlen=max_length, padding=padding_type, truncating=trunc_type)\n",
    "\n",
    "# Generate and pad the testing sequences\n",
    "testing_sequences = tokenizer.texts_to_sequences(testing_sentences)\n",
    "testing_padded = pad_sequences(testing_sequences, maxlen=max_length, padding=padding_type, truncating=trunc_type)\n",
    "\n",
    "# Convert the labels lists into numpy arrays\n",
    "training_labels = np.array(training_labels)\n",
    "testing_labels = np.array(testing_labels)"
   ]
  },
  {
   "cell_type": "markdown",
   "metadata": {
    "id": "o23gJhj95el5"
   },
   "source": [
    "## Build and Compile the Model\n",
    "\n",
    "The architecture here is almost identical to the one you used in the previous lab with the IMDB Reviews. Try to tweak the parameters and see how it affects the training time and accuracy (both training and validation)."
   ]
  },
  {
   "cell_type": "code",
   "execution_count": 5,
   "metadata": {
    "id": "jGwXGIXvFhXW"
   },
   "outputs": [
    {
     "name": "stdout",
     "output_type": "stream",
     "text": [
      "Model: \"sequential\"\n",
      "_________________________________________________________________\n",
      " Layer (type)                Output Shape              Param #   \n",
      "=================================================================\n",
      " embedding (Embedding)       (None, 120, 16)           160000    \n",
      "                                                                 \n",
      " bidirectional (Bidirectiona  (None, 64)               12544     \n",
      " l)                                                              \n",
      "                                                                 \n",
      " dense (Dense)               (None, 24)                1560      \n",
      "                                                                 \n",
      " dense_1 (Dense)             (None, 1)                 25        \n",
      "                                                                 \n",
      "=================================================================\n",
      "Total params: 174,129\n",
      "Trainable params: 174,129\n",
      "Non-trainable params: 0\n",
      "_________________________________________________________________\n"
     ]
    }
   ],
   "source": [
    "import tensorflow as tf\n",
    "\n",
    "# Parameters\n",
    "embedding_dim = 16\n",
    "lstm_dim = 32\n",
    "dense_dim = 24\n",
    "\n",
    "# Model Definition with LSTM\n",
    "model_lstm = tf.keras.Sequential([\n",
    "    tf.keras.layers.Embedding(vocab_size, embedding_dim, input_length=max_length),\n",
    "    tf.keras.layers.Bidirectional(tf.keras.layers.LSTM(lstm_dim)),\n",
    "    tf.keras.layers.Dense(dense_dim, activation='relu'),\n",
    "    tf.keras.layers.Dense(1, activation='sigmoid')\n",
    "])\n",
    "\n",
    "# Set the training parameters\n",
    "model_lstm.compile(loss='binary_crossentropy',optimizer='adam',metrics=['accuracy'])\n",
    "\n",
    "# Print the model summary\n",
    "model_lstm.summary()"
   ]
  },
  {
   "cell_type": "markdown",
   "metadata": {
    "id": "krcQGm7B5g9A"
   },
   "source": [
    "## Train the Model"
   ]
  },
  {
   "cell_type": "code",
   "execution_count": 6,
   "metadata": {
    "colab": {
     "background_save": true
    },
    "id": "nEKV8EMj11BW"
   },
   "outputs": [
    {
     "name": "stdout",
     "output_type": "stream",
     "text": [
      "Epoch 1/10\n",
      "625/625 [==============================] - 17s 24ms/step - loss: 0.4082 - accuracy: 0.8017 - val_loss: 0.3306 - val_accuracy: 0.8544\n",
      "Epoch 2/10\n",
      "625/625 [==============================] - 15s 24ms/step - loss: 0.2126 - accuracy: 0.9135 - val_loss: 0.3498 - val_accuracy: 0.8530\n",
      "Epoch 3/10\n",
      "625/625 [==============================] - 15s 24ms/step - loss: 0.1330 - accuracy: 0.9498 - val_loss: 0.4042 - val_accuracy: 0.8535\n",
      "Epoch 4/10\n",
      "625/625 [==============================] - 15s 24ms/step - loss: 0.0801 - accuracy: 0.9722 - val_loss: 0.4858 - val_accuracy: 0.8462\n",
      "Epoch 5/10\n",
      "625/625 [==============================] - 15s 24ms/step - loss: 0.0499 - accuracy: 0.9831 - val_loss: 0.6099 - val_accuracy: 0.8407\n",
      "Epoch 6/10\n",
      "625/625 [==============================] - 15s 24ms/step - loss: 0.0314 - accuracy: 0.9907 - val_loss: 0.7320 - val_accuracy: 0.8392\n",
      "Epoch 7/10\n",
      "625/625 [==============================] - 17s 26ms/step - loss: 0.0185 - accuracy: 0.9949 - val_loss: 0.8756 - val_accuracy: 0.8322\n",
      "Epoch 8/10\n",
      "625/625 [==============================] - 17s 27ms/step - loss: 0.0159 - accuracy: 0.9948 - val_loss: 0.9051 - val_accuracy: 0.8346\n",
      "Epoch 9/10\n",
      "625/625 [==============================] - 17s 27ms/step - loss: 0.0153 - accuracy: 0.9947 - val_loss: 1.0336 - val_accuracy: 0.8293\n",
      "Epoch 10/10\n",
      "625/625 [==============================] - 17s 27ms/step - loss: 0.0530 - accuracy: 0.9857 - val_loss: 0.8193 - val_accuracy: 0.8335\n"
     ]
    }
   ],
   "source": [
    "NUM_EPOCHS = 10\n",
    "\n",
    "# Train the model\n",
    "history_lstm = model_lstm.fit(training_padded, training_labels, epochs=NUM_EPOCHS, validation_data=(testing_padded, testing_labels))"
   ]
  },
  {
   "cell_type": "code",
   "execution_count": 7,
   "metadata": {
    "id": "g9DC6dmLF8DC"
   },
   "outputs": [
    {
     "data": {
      "image/png": "[encoded data removed]",
      "text/plain": [
       "<Figure size 640x480 with 1 Axes>"
      ]
     },
     "metadata": {},
     "output_type": "display_data"
    },
    {
     "data": {
      "image/png": "[encoded data removed]",
      "text/plain": [
       "<Figure size 640x480 with 1 Axes>"
      ]
     },
     "metadata": {},
     "output_type": "display_data"
    }
   ],
   "source": [
    "import matplotlib.pyplot as plt\n",
    "\n",
    "# Plot Utility\n",
    "def plot_graphs(history, string):\n",
    "  plt.plot(history.history[string])\n",
    "  plt.plot(history.history['val_'+string])\n",
    "  plt.xlabel(\"Epochs\")\n",
    "  plt.ylabel(string)\n",
    "  plt.legend([string, 'val_'+string])\n",
    "  plt.show()\n",
    "\n",
    "# Plot the accuracy and loss history\n",
    "plot_graphs(history_lstm, 'accuracy')\n",
    "plot_graphs(history_lstm, 'loss')"
   ]
  }
 ],
 "metadata": {
  "accelerator": "GPU",
  "colab": {
   "collapsed_sections": [],
   "name": "C3_W3_Lab_5_sarcasm_with_bi_LSTM.ipynb",
   "private_outputs": true,
   "provenance": []
  },
  "kernelspec": {
   "display_name": "Python 3",
   "language": "python",
   "name": "python3"
  },
  "language_info": {
   "codemirror_mode": {
    "name": "ipython",
    "version": 3
   },
   "file_extension": ".py",
   "mimetype": "text/x-python",
   "name": "python",
   "nbconvert_exporter": "python",
   "pygments_lexer": "ipython3",
   "version": "3.11.3"
  }
 },
 "nbformat": 4,
 "nbformat_minor": 1
}
